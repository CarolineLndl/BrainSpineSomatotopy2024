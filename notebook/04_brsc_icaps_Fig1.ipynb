{
 "cells": [
  {
   "cell_type": "markdown",
   "id": "2971b365-6b45-4164-bb50-070f598c8555",
   "metadata": {},
   "source": [
    "# <font color=#B2D732> <span style=\"background-color: #4424D6\"> Analysis - iCAPs </span> </font>\n",
    "\n",
    "<hr style=\"border:1px solid black\">  \n",
    "\n",
    "*Project: 2024_brsc_fc_project*  \n",
    "*Paper: Landelle, Kinany et al. 2024*   \n",
    "\n",
    "**Toolbox**:  \n",
    "The toolbox to run this analysis is available here:  \n",
    "\n",
    "https://miplab.epfl.ch/index.php/software/total-activation\n",
    "\n",
    "**Input**:  \n",
    "Denoised + high passed filtered + coregister + unsmoothed data\n",
    "<hr style=\"border:1px solid black\">"
   ]
  },
  {
   "cell_type": "code",
   "execution_count": null,
   "id": "a3a2d0ec-a9a5-497e-a913-868b887796bb",
   "metadata": {},
   "outputs": [],
   "source": []
  }
 ],
 "metadata": {
  "kernelspec": {
   "display_name": "Python 3 (ipykernel)",
   "language": "python",
   "name": "python3"
  },
  "language_info": {
   "codemirror_mode": {
    "name": "ipython",
    "version": 3
   },
   "file_extension": ".py",
   "mimetype": "text/x-python",
   "name": "python",
   "nbconvert_exporter": "python",
   "pygments_lexer": "ipython3",
   "version": "3.8.19"
  }
 },
 "nbformat": 4,
 "nbformat_minor": 5
}
