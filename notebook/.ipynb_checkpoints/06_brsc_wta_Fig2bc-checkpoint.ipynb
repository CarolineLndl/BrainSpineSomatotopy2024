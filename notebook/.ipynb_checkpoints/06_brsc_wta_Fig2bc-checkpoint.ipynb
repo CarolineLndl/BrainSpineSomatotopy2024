{
 "cells": [
  {
   "cell_type": "markdown",
   "id": "da955ebd",
   "metadata": {},
   "source": [
    "Goal: \n",
    "- Create an analyse that will compute for each brain voxels the spinal level gave the maximal MI value (from C1 to C7)\n",
    "- Each voxel will have the value of the segment: 1,2,3,4,5,6 or 7"
   ]
  },
  {
   "cell_type": "markdown",
   "id": "203ebe24",
   "metadata": {},
   "source": [
    "## <font color=#B2D732> <span style=\"background-color: #4424D6\"> Imports"
   ]
  },
  {
   "cell_type": "code",
   "execution_count": 1,
   "id": "dbb69b38",
   "metadata": {},
   "outputs": [],
   "source": [
    "import sys,json\n",
    "import glob, os\n",
    "import matplotlib.pyplot as plt\n",
    "project_dir=\"/cerebro/cerebro1/dataset/bmpd/derivatives/HealthyControls_project/2024_brsc_fc_project/\"\n",
    "sys.path.append(project_dir + \"/code/\")\n",
    "\n",
    "from winner_take_all import WinnerAll\n",
    "from plotting import Plot_brain\n",
    "\n",
    "%matplotlib inline\n",
    "%load_ext autoreload\n",
    "%autoreload 2"
   ]
  },
  {
   "cell_type": "markdown",
   "id": "60b99f3e",
   "metadata": {},
   "source": [
    "## <font color=#B2D732> <span style=\"background-color: #4424D6\"> A/ Initialization: Configuration & parameters"
   ]
  },
  {
   "cell_type": "code",
   "execution_count": 2,
   "id": "8f49282b",
   "metadata": {},
   "outputs": [
    {
     "name": "stdout",
     "output_type": "stream",
     "text": [
      "Analyses will be run in the following mask: MNI_GM_2mm\n"
     ]
    }
   ],
   "source": [
    "# Load config file ------------------------------------------------------------\n",
    "with open('../config/05_brsc_seed2voxels.json') as config_file: # the notebook should be in 'xx/notebook/' folder #config_proprio\n",
    "    config = json.load(config_file) # load config file should be open first and the path inside modified\n",
    "\n",
    "GradMaps=WinnerAll(config,verbose=True) # initialize the function\n",
    "PlotBr=Plot_brain(config) # initialize the function"
   ]
  },
  {
   "cell_type": "markdown",
   "id": "f247e9e6-7f37-47a6-a691-862448d7ca3b",
   "metadata": {},
   "source": [
    "## <font color=#B2D732> <span style=\"background-color: #4424D6\"> Figure 2B | Winner-Take-All analysis within SMC"
   ]
  },
  {
   "cell_type": "markdown",
   "id": "1ff4ebb5-16b0-4cb3-b547-c124171fd631",
   "metadata": {},
   "source": [
    "#### Run the analysis for each seed with the whole brain"
   ]
  },
  {
   "cell_type": "code",
   "execution_count": 3,
   "id": "179a3ab0",
   "metadata": {},
   "outputs": [
    {
     "name": "stdout",
     "output_type": "stream",
     "text": [
      "---------- Initialization info: \n",
      "icap_C1_gm will have a value of: 1\n",
      "icap_C2_gm will have a value of: 2\n",
      "icap_C3_gm will have a value of: 3\n",
      "icap_C4_gm will have a value of: 4\n",
      "icap_C5_gm will have a value of: 5\n",
      "icap_C6_gm will have a value of: 6\n",
      "icap_C7_gm will have a value of: 7\n"
     ]
    }
   ],
   "source": [
    "tag=\"k7_wta_corr\"\n",
    "wta_f=GradMaps.compute_GradMaps(output_tag=tag,fwhm=[0,0,0],\n",
    "                                redo=False,\n",
    "                                verbose=True)"
   ]
  },
  {
   "cell_type": "markdown",
   "id": "8e47257d-2a1c-4c19-a84b-977ee7dea49b",
   "metadata": {},
   "source": [
    "#### Mask the wta map with SMC mask (from iCAPs analysis) "
   ]
  },
  {
   "cell_type": "code",
   "execution_count": 4,
   "id": "25b66abc-a478-4476-b147-6cd3add87211",
   "metadata": {},
   "outputs": [
    {
     "name": "stdout",
     "output_type": "stream",
     "text": [
      "Number of voxels within the _SMC: 14343\n",
      "Number of voxels within the _SMC: 14343\n"
     ]
    }
   ],
   "source": [
    "mask=project_dir + \"/masks/brain/iCAPs_z_SMC_bin.nii.gz\"\n",
    "wta_smc_mask=[]\n",
    "for smoothing in [None,[3,3,3]]:\n",
    "    wta_smc_mask.append(GradMaps.mask_GradMaps(input_f=wta_f,\n",
    "                                               mask=mask,\n",
    "                                               output_tag=\"_SMC\",\n",
    "                                               smoothing_fwhm=smoothing,\n",
    "                                               redo=False))\n"
   ]
  },
  {
   "cell_type": "markdown",
   "id": "59e9c09c-eab2-43ff-91e0-3571541b53b1",
   "metadata": {},
   "source": [
    "#### Plot the WTA map Figure 2B"
   ]
  },
  {
   "cell_type": "code",
   "execution_count": null,
   "id": "d38b94f5-b171-4426-9bd2-a2e093a5805d",
   "metadata": {},
   "outputs": [],
   "source": [
    "discretized_colormap=Plot_brain.plot_colormap(colors=[\"#1a04a4\",'#0070ff','#07f6e0', \"#9bff00\",'#e8f703', '#fa9c03', '#ff3a00'],plot_colormap=False)\n",
    "PlotBr.plot_3D(i_img=wta_smc_mask[1],\n",
    "               hemi_view=[\"lh\",\"rh\"],\n",
    "               face_view=[\"lateral\"],\n",
    "               vmin=1,vmax=7,\n",
    "               mask_img=mask,\n",
    "               threshold=0.9,\n",
    "               colormap=discretized_colormap, \n",
    "               save_results=False)\n",
    "plt.close()"
   ]
  },
  {
   "cell_type": "markdown",
   "id": "84fd3629-429f-4642-89e7-0352a30ea4f9",
   "metadata": {},
   "source": [
    "## <font color=#B2D732> <span style=\"background-color: #4424D6\"> Figure 2C | Assigned levels WTA maps"
   ]
  },
  {
   "cell_type": "markdown",
   "id": "e272600e-8511-44af-bb94-73128425acd1",
   "metadata": {},
   "source": [
    "#### Threshold and combined cortical mask for assigned spinal segments - Figure 2C"
   ]
  },
  {
   "cell_type": "code",
   "execution_count": null,
   "id": "be45fed6-5346-40f1-ad97-095f59a989aa",
   "metadata": {},
   "outputs": [],
   "source": [
    "thresholds=[[0.9,1.1],[1.9,2.1],[2.9,3.1],[3.9,4.1],[4.9,5.1],[5.9,6.1],[6.9,7.1]]\n",
    "level_name=[\"_C1\",\"_C2\",\"_C3\",\"_C4\",\"_C5\",\"_C6\",\"_C7\"]\n",
    "level_masks=[]\n",
    "for i, (threshold, level) in enumerate(zip(thresholds, level_name)):\n",
    "    #print(f\"Threshold: {threshold}, Level Name: {level}\")\n",
    "    level_masks.append(GradMaps.mask_GradMaps(input_f=wta_smc_mask[0],\n",
    "                           mask=None,\n",
    "                           output_tag=level,\n",
    "                           threshold=threshold,\n",
    "                           cluster_threshold=50, # two files will be supplied with and without cluster_threshold, useful for display purposes\n",
    "                           smoothing_fwhm=None,\n",
    "                           redo=None))\n",
    "    \n",
    "    \n",
    "# Combine multiple levels together\n",
    "levels_combined=[\"_C1C2\",\"_C4C5\",\"_C6C7\"]\n",
    "level_masks_combined=[]\n",
    "for levels in levels_combined:\n",
    "    i_files=[glob.glob(level_masks[0].split(\"_C1\")[0] + \"_\" +levels[1:3] +level_masks[0].split(\"_C1\")[1]), glob.glob(level_masks[0].split(\"_C1\")[0] + \"_\" +levels[3:5] +level_masks[0].split(\"_C1\")[1])]\n",
    "    output_file=level_masks[0].split(\"_C1\")[0] + levels +level_masks[0].split(\"_C1\")[1] \n",
    "    \n",
    "    level_masks_combined.append(GradMaps.combine_GradMaps(files=i_files, \n",
    "                     output_file=output_file,\n",
    "                     redo=None,\n",
    "                     verbose=True))  "
   ]
  },
  {
   "cell_type": "markdown",
   "id": "494291ab-0d28-4245-903a-123dbe6c801d",
   "metadata": {},
   "source": [
    "#### Plot the WTA map Figure 2C"
   ]
  },
  {
   "cell_type": "code",
   "execution_count": null,
   "id": "d715e88b",
   "metadata": {},
   "outputs": [],
   "source": [
    "discretized_colormap=Plot_brain.plot_colormap(colors=[\"#1a04a4\",'#0070ff','#07f6e0', \"#9bff00\",'#e8f703', '#fa9c03', '#ff3a00'],plot_colormap=False)\n",
    "list_filename=[level_masks_combined[0], level_masks[2],level_masks_combined[1],level_masks_combined[2]]\n",
    "for i,f in enumerate(list_filename):\n",
    "    PlotBr.plot_3D(i_img=list_filename[i],\n",
    "               hemi_view=[\"lh\",\"rh\"],\n",
    "               face_view=[\"lateral\"],\n",
    "               vmin=1,vmax=7,\n",
    "               mask_img=mask,\n",
    "               threshold=0.9,\n",
    "               colormap=discretized_colormap, \n",
    "               save_results=False)\n",
    "    plt.close()\n",
    "\n"
   ]
  },
  {
   "cell_type": "code",
   "execution_count": null,
   "id": "08522510-a6b4-4453-adb9-7f0c8948fc2f",
   "metadata": {},
   "outputs": [],
   "source": []
  }
 ],
 "metadata": {
  "kernelspec": {
   "display_name": "Python 3 (ipykernel)",
   "language": "python",
   "name": "python3"
  },
  "language_info": {
   "codemirror_mode": {
    "name": "ipython",
    "version": 3
   },
   "file_extension": ".py",
   "mimetype": "text/x-python",
   "name": "python",
   "nbconvert_exporter": "python",
   "pygments_lexer": "ipython3",
   "version": "3.8.19"
  }
 },
 "nbformat": 4,
 "nbformat_minor": 5
}
