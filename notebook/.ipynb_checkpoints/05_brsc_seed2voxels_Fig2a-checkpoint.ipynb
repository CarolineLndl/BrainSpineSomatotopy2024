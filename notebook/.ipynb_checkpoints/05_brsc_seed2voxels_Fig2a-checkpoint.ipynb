{
 "cells": [
  {
   "cell_type": "markdown",
   "id": "54f034ec",
   "metadata": {},
   "source": [
    "## <font color=#B2D732> <span style=\"background-color: #4424D6\"> Imports"
   ]
  },
  {
   "cell_type": "code",
   "execution_count": 3,
   "id": "6731b587",
   "metadata": {
    "scrolled": true
   },
   "outputs": [
    {
     "name": "stdout",
     "output_type": "stream",
     "text": [
      "The autoreload extension is already loaded. To reload it, use:\n",
      "  %reload_ext autoreload\n"
     ]
    }
   ],
   "source": [
    "import sys,json\n",
    "import glob, os\n",
    "sys.path.append(\"/cerebro/cerebro1/dataset/bmpd/derivatives/HealthyControls_project/2024_brsc_fc_project/code/\")\n",
    "\n",
    "\n",
    "from seed_to_voxels import Seed2voxels\n",
    "\n",
    "%matplotlib inline\n",
    "%load_ext autoreload\n",
    "%autoreload 2"
   ]
  },
  {
   "cell_type": "markdown",
   "id": "09c6a5f8",
   "metadata": {
    "tags": []
   },
   "source": [
    "## <font color=#B2D732> <span style=\"background-color: #4424D6\"> A/ Initialization"
   ]
  },
  {
   "cell_type": "markdown",
   "id": "a060a35d",
   "metadata": {},
   "source": [
    " ### <font color=#4424D6> I. Configuration & parameters </font >"
   ]
  },
  {
   "cell_type": "code",
   "execution_count": 4,
   "id": "53144fce",
   "metadata": {},
   "outputs": [],
   "source": [
    "# Load config file ------------------------------------------------------------\n",
    "with open('../config/05_brsc_seed2voxels.json') as config_file: # the notebook should be in 'xx/notebook/' folder #config_proprio\n",
    "    config = json.load(config_file) # load config file should be open first and the path inside modified\n"
   ]
  },
  {
   "cell_type": "markdown",
   "id": "91808626",
   "metadata": {},
   "source": [
    "### <font color=#4424D6> II. Initialize class based on this </font>"
   ]
  },
  {
   "cell_type": "code",
   "execution_count": 5,
   "id": "0cda2dae",
   "metadata": {},
   "outputs": [
    {
     "name": "stdout",
     "output_type": "stream",
     "text": [
      "Start the analysis on: 31 participants\n",
      "targeted voxel's group mask: MNI_GM_2mm\n",
      "/cerebro/cerebro1/dataset/bmpd/derivatives/HealthyControls_project//hc_project_analyses/masks/brain/MNI_GM_2mm.nii.gz\n",
      "/cerebro/cerebro1/dataset/bmpd/derivatives/HealthyControls_project//2024_brsc_fc_project/masks/spinalcord/levels/icaps/gm/icap_C1_gm.nii.gz\n",
      "/cerebro/cerebro1/dataset/bmpd/derivatives/HealthyControls_project//2024_brsc_fc_project/masks/spinalcord/levels/icaps/gm/icap_C2_gm.nii.gz\n",
      "/cerebro/cerebro1/dataset/bmpd/derivatives/HealthyControls_project//2024_brsc_fc_project/masks/spinalcord/levels/icaps/gm/icap_C3_gm.nii.gz\n",
      "/cerebro/cerebro1/dataset/bmpd/derivatives/HealthyControls_project//2024_brsc_fc_project/masks/spinalcord/levels/icaps/gm/icap_C4_gm.nii.gz\n",
      "/cerebro/cerebro1/dataset/bmpd/derivatives/HealthyControls_project//2024_brsc_fc_project/masks/spinalcord/levels/icaps/gm/icap_C5_gm.nii.gz\n",
      "/cerebro/cerebro1/dataset/bmpd/derivatives/HealthyControls_project//2024_brsc_fc_project/masks/spinalcord/levels/icaps/gm/icap_C6_gm.nii.gz\n",
      "/cerebro/cerebro1/dataset/bmpd/derivatives/HealthyControls_project//2024_brsc_fc_project/masks/spinalcord/levels/icaps/gm/icap_C7_gm.nii.gz\n"
     ]
    }
   ],
   "source": [
    "seed2voxels=Seed2voxels(config) # initialize the function"
   ]
  },
  {
   "cell_type": "markdown",
   "id": "4410165b",
   "metadata": {},
   "source": [
    "## <font color=#B2D732> <span style=\"background-color: #4424D6\"> B/ Data extraction </font></span>\n",
    "### <font color=#4424D6> I. Time series extraction - Target </font>\n"
   ]
  },
  {
   "cell_type": "code",
   "execution_count": 9,
   "id": "3694283d",
   "metadata": {},
   "outputs": [
    {
     "name": "stdout",
     "output_type": "stream",
     "text": [
      "Target extracted in  220.97750520706177 seconds\n"
     ]
    },
    {
     "name": "stderr",
     "output_type": "stream",
     "text": [
      "data extracted:   0%|                                     | 0/7 [00:00<?, ?it/s]"
     ]
    },
    {
     "name": "stdout",
     "output_type": "stream",
     "text": [
      "icap_C1_gm\n",
      "Seeds extracted in  974.1664559841156 seconds\n"
     ]
    },
    {
     "name": "stderr",
     "output_type": "stream",
     "text": [
      "data extracted:  14%|███▋                      | 1/7 [16:14<1:37:26, 974.46s/it]"
     ]
    },
    {
     "name": "stdout",
     "output_type": "stream",
     "text": [
      "icap_C2_gm\n"
     ]
    },
    {
     "name": "stderr",
     "output_type": "stream",
     "text": [
      "data extracted:  29%|███████▍                  | 2/7 [26:24<1:03:19, 759.89s/it]"
     ]
    },
    {
     "name": "stdout",
     "output_type": "stream",
     "text": [
      "Seeds extracted in  609.3276915550232 seconds\n",
      "icap_C3_gm\n"
     ]
    },
    {
     "name": "stderr",
     "output_type": "stream",
     "text": [
      "data extracted:  43%|████████████                | 3/7 [37:06<47:04, 706.03s/it]"
     ]
    },
    {
     "name": "stdout",
     "output_type": "stream",
     "text": [
      "Seeds extracted in  641.8149704933167 seconds\n",
      "icap_C4_gm\n"
     ]
    },
    {
     "name": "stderr",
     "output_type": "stream",
     "text": [
      "data extracted:  57%|████████████████            | 4/7 [47:33<33:45, 675.07s/it]"
     ]
    },
    {
     "name": "stdout",
     "output_type": "stream",
     "text": [
      "Seeds extracted in  627.5362994670868 seconds\n",
      "icap_C5_gm\n"
     ]
    },
    {
     "name": "stderr",
     "output_type": "stream",
     "text": [
      "data extracted:  71%|████████████████████        | 5/7 [58:07<22:00, 660.34s/it]"
     ]
    },
    {
     "name": "stdout",
     "output_type": "stream",
     "text": [
      "Seeds extracted in  633.4881906509399 seconds\n",
      "icap_C6_gm\n"
     ]
    },
    {
     "name": "stderr",
     "output_type": "stream",
     "text": [
      "data extracted:  86%|██████████████████████▎   | 6/7 [1:09:41<11:11, 671.73s/it]"
     ]
    },
    {
     "name": "stdout",
     "output_type": "stream",
     "text": [
      "Seeds extracted in  693.3707168102264 seconds\n",
      "icap_C7_gm\n",
      "Seeds extracted in  624.2032561302185 seconds\n"
     ]
    },
    {
     "name": "stderr",
     "output_type": "stream",
     "text": [
      "data extracted: 100%|██████████████████████████| 7/7 [1:20:06<00:00, 686.64s/it]\n"
     ]
    },
    {
     "name": "stdout",
     "output_type": "stream",
     "text": [
      "Outputs are organized as:\n",
      "1: timeseries_target={'raw':[],'zscored':[],'mean':[],'zmean':[],'PC1':[]}\n",
      "2: timeseries_seeds={'raw':[],'zscored':[],'mean':[],'zmean':[],'PC1':[]}\n"
     ]
    }
   ],
   "source": [
    "target_timeseries,seeds_timeseries = seed2voxels.extract_data(redo=True,n_jobs=8) "
   ]
  },
  {
   "cell_type": "markdown",
   "id": "a4751719",
   "metadata": {},
   "source": [
    "## <font color=#B2D732> <span style=\"background-color: #4424D6\"> C/ Correlation analysis"
   ]
  },
  {
   "cell_type": "code",
   "execution_count": 12,
   "id": "246b7738",
   "metadata": {},
   "outputs": [],
   "source": [
    "for side in [\"positive\",\"negative\",\"two-sided\"]:\n",
    "    output_dir={};output_file={};\n",
    "\n",
    "    if side==\"positive\":\n",
    "        tag=\"pos\"\n",
    "    elif side==\"negative\":\n",
    "        tag=\"neg\"\n",
    "    elif side==\"two-sided\":\n",
    "        tag=\"bi\"\n",
    "\n",
    "    for seed_name in config[\"seeds\"][\"seed_names\"]:\n",
    "        output_dir[seed_name]=config[\"first_level\"] +'/' + seed_name + '/' + config[\"targeted_voxels\"][\"target_name\"]+ '_fc_maps/Corr/'\n",
    "        if not os.path.exists(output_dir[seed_name]):\n",
    "            os.mkdir(output_dir[seed_name])\n",
    "\n",
    "        output_file[seed_name]=  output_dir[seed_name] +'/'+tag+'-corr_' + str(len(config['list_subjects'])) + 'subjects_seed_' + seed_name \n",
    "\n",
    "        # run correlation analysis\n",
    "        corr=seed2voxels.correlation_maps(seeds_timeseries[\"zmean\"][seed_name],\n",
    "                                          target_timeseries[\"zscored\"],\n",
    "                                          output_img=output_file[seed_name],\n",
    "                                          Fisher=True,\n",
    "                                          partial=False,\n",
    "                                          side=side,\n",
    "                                          save_maps=True,\n",
    "                                          smoothing_output=None,\n",
    "                                          redo=False,\n",
    "                                          n_jobs=8)\n",
    "\n",
    "        #calculate the mean across participant\n",
    "        string=\"fslmaths \" +output_file[seed_name] + \" -Tmean \" + output_file[seed_name].split(\".\")[0] + \"_mean.nii.gz\"\n",
    "        os.system(string)"
   ]
  }
 ],
 "metadata": {
  "kernelspec": {
   "display_name": "Python 3 (ipykernel)",
   "language": "python",
   "name": "python3"
  },
  "language_info": {
   "codemirror_mode": {
    "name": "ipython",
    "version": 3
   },
   "file_extension": ".py",
   "mimetype": "text/x-python",
   "name": "python",
   "nbconvert_exporter": "python",
   "pygments_lexer": "ipython3",
   "version": "3.8.19"
  }
 },
 "nbformat": 4,
 "nbformat_minor": 5
}
