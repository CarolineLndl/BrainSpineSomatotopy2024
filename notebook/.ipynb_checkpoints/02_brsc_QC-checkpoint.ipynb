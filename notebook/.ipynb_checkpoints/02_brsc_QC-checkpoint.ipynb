{
 "cells": [
  {
   "cell_type": "markdown",
   "metadata": {},
   "source": [
    "# <font color=#B2D732> <span style=\"background-color: #4424D6\"> Brain & Spinal Cord fMRI Quality check </font>\n",
    "<hr style=\"border:1px solid black\">  \n",
    "\n",
    "*Project: 2024_brsc_fc_project*  \n",
    "*Paper: Landelle, Kinany et al. 204*  \n",
    "**@ author:** \n",
    "> Caroline Landelle, caroline.landelle@mcgill.ca // landelle.caroline@gmail.com  \n",
    "> Nawal Kinany, nawal.kinany@epfl.ch  \n",
    "> July 2020 (last update: 11 March 2024)\n",
    "\n",
    "**Description:** \n",
    "> This notebook provides code for quality check of fMRI data of simultaneous brain and spinal cord acquisition (single FOV).   \n",
    "\n",
    "\n",
    "**Associated files:**\n",
    "> - ../config/02_brsc_preprocess.json ; This file contains the directories and should be modified first\n",
    "> - ../.py ; Nothing should be changed in this file\n",
    "> - ../.py; Nothing should be changed in this file\n",
    "\n",
    "**Steps:**\n",
    "> **I. Participants **  \n",
    "\n",
    "> **II. Framewise displacement**  \n",
    "> II.1 Motion correction  \n",
    "> II.2 Segmentation   \n",
    "> II.3 Brain coregistration into T1w\n",
    "\n",
    "> **III. tSNR**  \n",
    "stration to PAM50 template  \n",
    "\n",
    "<hr style=\"border:1px solid black\">\n",
    "\n",
    "to do:\n",
    "- check run nomemclature"
   ]
  },
  {
   "cell_type": "markdown",
   "metadata": {},
   "source": [
    "## <font color=#B2D732> <span style=\"background-color: #4424D6\">  Imports & configuration </font >"
   ]
  },
  {
   "cell_type": "code",
   "execution_count": 1,
   "metadata": {
    "scrolled": true
   },
   "outputs": [],
   "source": [
    "import sys, json, glob, os\n",
    "import pandas as pd\n",
    "import numpy as np\n",
    "code_dir=\"/cerebro/cerebro1/dataset/bmpd/derivatives/HealthyControls_project/2024_brsc_fc_project/\"\n",
    "os.chdir(code_dir)\n",
    "sys.path.append(code_dir + \"/code/\") # Change this line according to your directory\n",
    "\n",
    "import brsc_utils as utils\n",
    "import brsc_QC as QC\n",
    "#\n",
    "%load_ext autoreload\n",
    "%autoreload 2\n",
    "%matplotlib inline\n",
    "    \n",
    "# Load config file ------------------------------------------------------------\n",
    "# The config file should be first review and all path should be modified (lines: )\n",
    "with open(code_dir + '/config/02_brsc_QC.json') as config_file: # the notebook should be in 'xx/notebook/' folder #config_proprio\n",
    "    config = json.load(config_file) # load config file should be open first and the path inside modified\n",
    "\n",
    "#Load participant file\n",
    "info_IDs=pd.read_csv(code_dir +'/config/' +config[\"IDs_info_f\"],delimiter=\"\\t\")\n"
   ]
  },
  {
   "cell_type": "markdown",
   "metadata": {},
   "source": [
    "<hr style=\"border:1px solid black\">    \n",
    "\n",
    "## <font color=#B2D732> <span style=\"background-color: #4424D6\"> I. Participants  </font>"
   ]
  },
  {
   "cell_type": "code",
   "execution_count": 2,
   "metadata": {},
   "outputs": [
    {
     "name": "stdout",
     "output_type": "stream",
     "text": [
      "Mean age: 32.83870967741935\n",
      "Standard deviation of age: 6.851261558737673\n",
      " \n",
      "Number of male (M): 15\n",
      "Number of female (F): 16\n"
     ]
    }
   ],
   "source": [
    "# Calculate mean and standard deviation of age\n",
    "age_mean = info_IDs['age'].mean()\n",
    "age_std = info_IDs['age'].std()\n",
    "print(\"Mean age:\", age_mean)\n",
    "print(\"Standard deviation of age:\", age_std)\n",
    "\n",
    "print(\" \")\n",
    "# Count the number of male and female\n",
    "sex_counts = info_IDs['sex'].value_counts()\n",
    "print(\"Number of male (M):\", sex_counts['M'])\n",
    "print(\"Number of female (F):\", sex_counts['F'])"
   ]
  },
  {
   "cell_type": "markdown",
   "metadata": {},
   "source": [
    "<hr style=\"border:1px solid black\">    \n",
    "\n",
    "## <font color=#B2D732> <span style=\"background-color: #4424D6\"> II. Framewise displacement  </font>"
   ]
  },
  {
   "cell_type": "code",
   "execution_count": 4,
   "metadata": {},
   "outputs": [
    {
     "name": "stdout",
     "output_type": "stream",
     "text": [
      "Mean FD spinal cord: 0.10721218257001057\n",
      "Standard deviation : 0.037270983725393426\n",
      "Mean FD brain: 0.06371158300912964\n",
      "Standard deviation : 0.02191760509052089\n"
     ]
    },
    {
     "data": {
      "image/png": "[encoded data removed]",
      "text/plain": [
       "<Figure size 400x600 with 1 Axes>"
      ]
     },
     "metadata": {},
     "output_type": "display_data"
    }
   ],
   "source": [
    "IDs=[];FDmean_sc_x=[];FDmean_sc_y=[];FDmean_spinalcord=[];FDmean_brain=[]; df={}\n",
    "for structure in config[\"structures\"]:\n",
    "    for ID_nb,ID in enumerate(config[\"participants_IDs\"]):\n",
    "        #Open the file containing the mean FD info:\n",
    "        if structure==\"spinalcord\":\n",
    "            FDmean_sc_x.append(pd.read_csv(config[\"main_dir\"] + config[\"moco_files\"][\"dir\"].format(ID,structure) + config[\"moco_files\"][\"FD_mean_f\"] ,delimiter=\" \",header=None)[0][0])\n",
    "            FDmean_sc_y.append(pd.read_csv(config[\"main_dir\"] + config[\"moco_files\"][\"dir\"].format(ID,structure) + config[\"moco_files\"][\"FD_mean_f\"] ,delimiter=\" \",header=None)[1][0])\n",
    "            FDmean_spinalcord.append(np.mean([FDmean_sc_x[ID_nb],FDmean_sc_y[ID_nb]]))\n",
    "        else:\n",
    "            FDmean_brain.append(pd.read_csv(config[\"main_dir\"] + config[\"moco_files\"][\"dir\"].format(ID,structure) + config[\"moco_files\"][\"FD_mean_f\"] ,delimiter=\" \",header=None)[0][0])\n",
    "    \n",
    "    variable_name = f\"FDmean_{structure}\"\n",
    "    df[structure] = pd.DataFrame({'ID': config[\"participants_IDs\"], 'FD': globals()[variable_name],'structure':  structure})\n",
    "\n",
    "# Concatenate horizontally the two dataframes\n",
    "df_FD= pd.concat([df[\"spinalcord\"], df[\"brain\"]])\n",
    "df_FD.reset_index(drop=True, inplace=True)\n",
    "\n",
    "\n",
    "# Calculate mean and standard deviation of FD for \n",
    "FD_sc_mean = df[\"spinalcord\"]['FD'].mean()\n",
    "FD_dc_std = df[\"spinalcord\"]['FD'].std()\n",
    "print(\"Mean FD spinal cord:\", FD_sc_mean)\n",
    "print(\"Standard deviation :\", FD_dc_std)\n",
    "\n",
    "# Calculate mean and standard deviation of FD for \n",
    "FD_brain_mean = df[\"brain\"]['FD'].mean()\n",
    "FD_brain_std = df[\"brain\"]['FD'].std()\n",
    "print(\"Mean FD brain:\", FD_brain_mean)\n",
    "print(\"Standard deviation :\", FD_brain_std)\n",
    "QC.plot_metrics(config=config,df=df_FD,index='ID',y=\"FD\",columns=['structure'],y_title=\"Framewise displacement (mm) \",save_plot=False)"
   ]
  },
  {
   "cell_type": "markdown",
   "metadata": {},
   "source": [
    "<hr style=\"border:1px solid black\">    \n",
    "\n",
    "## <font color=#B2D732> <span style=\"background-color: #4424D6\"> III. tSNR  </font>"
   ]
  },
  {
   "cell_type": "code",
   "execution_count": 5,
   "metadata": {},
   "outputs": [
    {
     "name": "stdout",
     "output_type": "stream",
     "text": [
      "Mean tSNR spinal cord: 21.68316967741935\n",
      "Standard deviation : 2.6303992371938065\n",
      "Mean FD brain: 46.201715387096776\n",
      "Standard deviation : 3.8793851427344137\n"
     ]
    },
    {
     "data": {
      "image/png": "[encoded data removed]",
      "text/plain": [
       "<Figure size 400x600 with 1 Axes>"
      ]
     },
     "metadata": {},
     "output_type": "display_data"
    }
   ],
   "source": [
    "tSNR_mean_spinalcord=[]; tSNR_mean_brain=[];df={}\n",
    "for structure in config[\"structures\"]:\n",
    "    for ID_nb,ID in enumerate(config[\"participants_IDs\"]):\n",
    "        if structure==\"spinalcord\":\n",
    "            tSNR_mean_spinalcord.append(pd.read_csv(QC.tSNR(config=config,ID=ID,structure=structure),delimiter=\" \",header=None)[0][0])\n",
    "        elif structure==\"brain\":\n",
    "            tSNR_mean_brain.append(pd.read_csv(QC.tSNR(config=config,ID=ID,structure=structure),delimiter=\" \",header=None)[0][0])\n",
    "    \n",
    "    variable_name = f\"tSNR_mean_{structure}\"\n",
    "    df[structure] = pd.DataFrame({'ID': config[\"participants_IDs\"], 'tSNR': globals()[variable_name],'structure':  structure})\n",
    "\n",
    "# Concatenate horizontally the two dataframes\n",
    "df_tSNR= pd.concat([df[\"spinalcord\"], df[\"brain\"]])\n",
    "df_tSNR.reset_index(drop=True, inplace=True)\n",
    "\n",
    "# Calculate mean and standard deviation of FD for \n",
    "tSNR_sc_mean = df[\"spinalcord\"]['tSNR'].mean()\n",
    "tSNR_sc_std = df[\"spinalcord\"]['tSNR'].std()\n",
    "print(\"Mean tSNR spinal cord:\", tSNR_sc_mean)\n",
    "print(\"Standard deviation :\", tSNR_sc_std)\n",
    "\n",
    "# Calculate mean and standard deviation of FD for \n",
    "tSNR_brain_mean = df[\"brain\"]['tSNR'].mean()\n",
    "tSNR_brain_std = df[\"brain\"]['tSNR'].std()\n",
    "print(\"Mean FD brain:\", tSNR_brain_mean)\n",
    "print(\"Standard deviation :\", tSNR_brain_std)\n",
    "QC.plot_metrics(config=config,df=df_tSNR,index='ID',y=\"tSNR\",columns=['structure'],y_title=\"tSNR\",save_plot=False)\n"
   ]
  },
  {
   "cell_type": "code",
   "execution_count": null,
   "metadata": {},
   "outputs": [],
   "source": []
  },
  {
   "cell_type": "code",
   "execution_count": 48,
   "metadata": {},
   "outputs": [
    {
     "name": "stdout",
     "output_type": "stream",
     "text": [
      "The autoreload extension is already loaded. To reload it, use:\n",
      "  %reload_ext autoreload\n"
     ]
    }
   ],
   "source": [
    "import sys, json, glob, os\n",
    "import pandas as pd\n",
    "import numpy as np\n",
    "code_dir=\"/cerebro/cerebro1/dataset/bmpd/derivatives/HealthyControls_project/2024_brsc_fc_project/\"\n",
    "os.chdir(code_dir)\n",
    "sys.path.append(code_dir + \"/code/\") # Change this line according to your directory\n",
    "\n",
    "import brsc_utils as utils\n",
    "import brsc_QC as QC\n",
    "#\n",
    "%load_ext autoreload\n",
    "%autoreload 2\n",
    "%matplotlib inline\n",
    "    \n",
    "# Load config file ------------------------------------------------------------\n",
    "# The config file should be first review and all path should be modified (lines: )\n",
    "with open(code_dir + '/config/02_brsc_QC.json') as config_file: # the notebook should be in 'xx/notebook/' folder #config_proprio\n",
    "    config = json.load(config_file) # load config file should be open first and the path inside modified\n",
    "\n",
    "#Load participant file\n",
    "info_IDs=pd.read_csv(code_dir +'/config/' +config[\"IDs_info_f\"],delimiter=\"\\t\")\n"
   ]
  },
  {
   "cell_type": "code",
   "execution_count": 50,
   "metadata": {},
   "outputs": [
    {
     "name": "stdout",
     "output_type": "stream",
     "text": [
      "<_io.TextIOWrapper name='/cerebro/cerebro1/dataset/bmpd/derivatives/HealthyControls_project/2024_brsc_fc_data/sub-A007/func/sub-A007_task-rest_physio.json' mode='w' encoding='UTF-8'>\n",
      "<_io.TextIOWrapper name='/cerebro/cerebro1/dataset/bmpd/derivatives/HealthyControls_project/2024_brsc_fc_data/sub-A008/func/sub-A008_task-rest_physio.json' mode='w' encoding='UTF-8'>\n",
      "<_io.TextIOWrapper name='/cerebro/cerebro1/dataset/bmpd/derivatives/HealthyControls_project/2024_brsc_fc_data/sub-A009/func/sub-A009_task-rest_physio.json' mode='w' encoding='UTF-8'>\n",
      "<_io.TextIOWrapper name='/cerebro/cerebro1/dataset/bmpd/derivatives/HealthyControls_project/2024_brsc_fc_data/sub-A011/func/sub-A011_task-rest_physio.json' mode='w' encoding='UTF-8'>\n",
      "<_io.TextIOWrapper name='/cerebro/cerebro1/dataset/bmpd/derivatives/HealthyControls_project/2024_brsc_fc_data/sub-A013/func/sub-A013_task-rest_physio.json' mode='w' encoding='UTF-8'>\n",
      "<_io.TextIOWrapper name='/cerebro/cerebro1/dataset/bmpd/derivatives/HealthyControls_project/2024_brsc_fc_data/sub-A023/func/sub-A023_task-rest_physio.json' mode='w' encoding='UTF-8'>\n",
      "<_io.TextIOWrapper name='/cerebro/cerebro1/dataset/bmpd/derivatives/HealthyControls_project/2024_brsc_fc_data/sub-A024/func/sub-A024_task-rest_physio.json' mode='w' encoding='UTF-8'>\n",
      "<_io.TextIOWrapper name='/cerebro/cerebro1/dataset/bmpd/derivatives/HealthyControls_project/2024_brsc_fc_data/sub-A025/func/sub-A025_task-rest_physio.json' mode='w' encoding='UTF-8'>\n",
      "<_io.TextIOWrapper name='/cerebro/cerebro1/dataset/bmpd/derivatives/HealthyControls_project/2024_brsc_fc_data/sub-A026/func/sub-A026_task-rest_physio.json' mode='w' encoding='UTF-8'>\n",
      "<_io.TextIOWrapper name='/cerebro/cerebro1/dataset/bmpd/derivatives/HealthyControls_project/2024_brsc_fc_data/sub-A027/func/sub-A027_task-rest_run-02_physio.json' mode='w' encoding='UTF-8'>\n",
      "<_io.TextIOWrapper name='/cerebro/cerebro1/dataset/bmpd/derivatives/HealthyControls_project/2024_brsc_fc_data/sub-A028/func/sub-A028_task-rest_physio.json' mode='w' encoding='UTF-8'>\n",
      "<_io.TextIOWrapper name='/cerebro/cerebro1/dataset/bmpd/derivatives/HealthyControls_project/2024_brsc_fc_data/sub-A029/func/sub-A029_task-rest_run-02_physio.json' mode='w' encoding='UTF-8'>\n",
      "<_io.TextIOWrapper name='/cerebro/cerebro1/dataset/bmpd/derivatives/HealthyControls_project/2024_brsc_fc_data/sub-A030/func/sub-A030_task-rest_physio.json' mode='w' encoding='UTF-8'>\n",
      "<_io.TextIOWrapper name='/cerebro/cerebro1/dataset/bmpd/derivatives/HealthyControls_project/2024_brsc_fc_data/sub-A032/func/sub-A032_task-rest_physio.json' mode='w' encoding='UTF-8'>\n",
      "<_io.TextIOWrapper name='/cerebro/cerebro1/dataset/bmpd/derivatives/HealthyControls_project/2024_brsc_fc_data/sub-A033/func/sub-A033_task-rest_physio.json' mode='w' encoding='UTF-8'>\n",
      "<_io.TextIOWrapper name='/cerebro/cerebro1/dataset/bmpd/derivatives/HealthyControls_project/2024_brsc_fc_data/sub-A034/func/sub-A034_task-rest_physio.json' mode='w' encoding='UTF-8'>\n",
      "<_io.TextIOWrapper name='/cerebro/cerebro1/dataset/bmpd/derivatives/HealthyControls_project/2024_brsc_fc_data/sub-A036/func/sub-A036_task-rest_physio.json' mode='w' encoding='UTF-8'>\n",
      "<_io.TextIOWrapper name='/cerebro/cerebro1/dataset/bmpd/derivatives/HealthyControls_project/2024_brsc_fc_data/sub-A037/func/sub-A037_task-rest_physio.json' mode='w' encoding='UTF-8'>\n",
      "<_io.TextIOWrapper name='/cerebro/cerebro1/dataset/bmpd/derivatives/HealthyControls_project/2024_brsc_fc_data/sub-A038/func/sub-A038_task-rest_physio.json' mode='w' encoding='UTF-8'>\n",
      "<_io.TextIOWrapper name='/cerebro/cerebro1/dataset/bmpd/derivatives/HealthyControls_project/2024_brsc_fc_data/sub-A039/func/sub-A039_task-rest_physio.json' mode='w' encoding='UTF-8'>\n",
      "<_io.TextIOWrapper name='/cerebro/cerebro1/dataset/bmpd/derivatives/HealthyControls_project/2024_brsc_fc_data/sub-A043/func/sub-A043_task-rest_physio.json' mode='w' encoding='UTF-8'>\n",
      "<_io.TextIOWrapper name='/cerebro/cerebro1/dataset/bmpd/derivatives/HealthyControls_project/2024_brsc_fc_data/sub-A044/func/sub-A044_task-rest_physio.json' mode='w' encoding='UTF-8'>\n",
      "<_io.TextIOWrapper name='/cerebro/cerebro1/dataset/bmpd/derivatives/HealthyControls_project/2024_brsc_fc_data/sub-A045/func/sub-A045_task-rest_physio.json' mode='w' encoding='UTF-8'>\n",
      "<_io.TextIOWrapper name='/cerebro/cerebro1/dataset/bmpd/derivatives/HealthyControls_project/2024_brsc_fc_data/sub-A046/func/sub-A046_task-rest_physio.json' mode='w' encoding='UTF-8'>\n",
      "<_io.TextIOWrapper name='/cerebro/cerebro1/dataset/bmpd/derivatives/HealthyControls_project/2024_brsc_fc_data/sub-A048/func/sub-A048_task-rest_physio.json' mode='w' encoding='UTF-8'>\n",
      "<_io.TextIOWrapper name='/cerebro/cerebro1/dataset/bmpd/derivatives/HealthyControls_project/2024_brsc_fc_data/sub-A050/func/sub-A050_task-rest_physio.json' mode='w' encoding='UTF-8'>\n",
      "<_io.TextIOWrapper name='/cerebro/cerebro1/dataset/bmpd/derivatives/HealthyControls_project/2024_brsc_fc_data/sub-A051/func/sub-A051_task-rest_physio.json' mode='w' encoding='UTF-8'>\n",
      "<_io.TextIOWrapper name='/cerebro/cerebro1/dataset/bmpd/derivatives/HealthyControls_project/2024_brsc_fc_data/sub-A052/func/sub-A052_task-rest_physio.json' mode='w' encoding='UTF-8'>\n"
     ]
    },
    {
     "ename": "IndexError",
     "evalue": "list index out of range",
     "output_type": "error",
     "traceback": [
      "\u001b[0;31m---------------------------------------------------------------------------\u001b[0m",
      "\u001b[0;31mIndexError\u001b[0m                                Traceback (most recent call last)",
      "Cell \u001b[0;32mIn[50], line 5\u001b[0m\n\u001b[1;32m      2\u001b[0m file2\u001b[38;5;241m=\u001b[39m\u001b[38;5;124m\"\u001b[39m\u001b[38;5;124m/cerebro/cerebro1/dataset/bmpd/derivatives/HealthyControls_project/2024_brsc_fc_data/sub-\u001b[39m\u001b[38;5;132;01m{}\u001b[39;00m\u001b[38;5;124m/func/*rest_physio2.json\u001b[39m\u001b[38;5;124m\"\u001b[39m\n\u001b[1;32m      4\u001b[0m \u001b[38;5;28;01mfor\u001b[39;00m ID_nb,ID \u001b[38;5;129;01min\u001b[39;00m \u001b[38;5;28menumerate\u001b[39m(config[\u001b[38;5;124m\"\u001b[39m\u001b[38;5;124mparticipants_IDs\u001b[39m\u001b[38;5;124m\"\u001b[39m]):\n\u001b[0;32m----> 5\u001b[0m     json_f\u001b[38;5;241m=\u001b[39m\u001b[43mglob\u001b[49m\u001b[38;5;241;43m.\u001b[39;49m\u001b[43mglob\u001b[49m\u001b[43m(\u001b[49m\u001b[43mfile\u001b[49m\u001b[38;5;241;43m.\u001b[39;49m\u001b[43mformat\u001b[49m\u001b[43m(\u001b[49m\u001b[43mID\u001b[49m\u001b[43m)\u001b[49m\u001b[43m)\u001b[49m\u001b[43m[\u001b[49m\u001b[38;5;241;43m0\u001b[39;49m\u001b[43m]\u001b[49m\n\u001b[1;32m      6\u001b[0m     \u001b[38;5;28;01mwith\u001b[39;00m \u001b[38;5;28mopen\u001b[39m(json_f) \u001b[38;5;28;01mas\u001b[39;00m open_file:\n\u001b[1;32m      7\u001b[0m         load_json \u001b[38;5;241m=\u001b[39m json\u001b[38;5;241m.\u001b[39mload(open_file)\n",
      "\u001b[0;31mIndexError\u001b[0m: list index out of range"
     ]
    }
   ],
   "source": [
    "file=\"/cerebro/cerebro1/dataset/bmpd/derivatives/HealthyControls_project/2024_brsc_fc_data/sub-{}/func/*rest_*physio.json\"\n",
    "file2=\"/cerebro/cerebro1/dataset/bmpd/derivatives/HealthyControls_project/2024_brsc_fc_data/sub-{}/func/*rest_physio2.json\"\n",
    "\n",
    "for ID_nb,ID in enumerate(config[\"participants_IDs\"]):\n",
    "    json_f=glob.glob(file.format(ID))[0]\n",
    "    with open(json_f) as open_file:\n",
    "        load_json = json.load(open_file)\n",
    "        load_json['TaskName']='rest'\n",
    "\n",
    "    with open(json_f, \"w\") as outfile:\n",
    "        print(outfile)\n",
    "        json.dump(load_json, outfile)"
   ]
  },
  {
   "cell_type": "code",
   "execution_count": 37,
   "metadata": {},
   "outputs": [
    {
     "data": {
      "text/plain": [
       "'/cerebro/cerebro1/dataset/bmpd/derivatives/HealthyControls_project/2024_brsc_fc_data/sub-A006/func/*rest_physio.json'"
      ]
     },
     "execution_count": 37,
     "metadata": {},
     "output_type": "execute_result"
    }
   ],
   "source": []
  },
  {
   "cell_type": "code",
   "execution_count": 46,
   "metadata": {},
   "outputs": [
    {
     "data": {
      "text/plain": [
       "{'SamplingFrequency': 400,\n",
       " 'Columns': ['cardiac', 'respiratory', 'trigger'],\n",
       " 'StartTime': 9999}"
      ]
     },
     "execution_count": 46,
     "metadata": {},
     "output_type": "execute_result"
    }
   ],
   "source": [
    "load_json"
   ]
  },
  {
   "cell_type": "code",
   "execution_count": 33,
   "metadata": {},
   "outputs": [
    {
     "data": {
      "text/plain": [
       "{'SamplingFrequency': 400,\n",
       " 'StartTime': 'None',\n",
       " 'Columns': ['cardiac', 'respiratory', 'trigger']}"
      ]
     },
     "execution_count": 33,
     "metadata": {},
     "output_type": "execute_result"
    }
   ],
   "source": [
    "load_json"
   ]
  },
  {
   "cell_type": "code",
   "execution_count": 29,
   "metadata": {},
   "outputs": [
    {
     "data": {
      "text/plain": [
       "'/cerebro/cerebro1/dataset/bmpd/derivatives/HealthyControls_project/2024_brsc_fc_data/sub-A006/func/sub-A006_task-rest_physio.json'"
      ]
     },
     "execution_count": 29,
     "metadata": {},
     "output_type": "execute_result"
    }
   ],
   "source": [
    "json_f"
   ]
  },
  {
   "cell_type": "code",
   "execution_count": 31,
   "metadata": {},
   "outputs": [
    {
     "ename": "ValueError",
     "evalue": "I/O operation on closed file.",
     "output_type": "error",
     "traceback": [
      "\u001b[0;31m---------------------------------------------------------------------------\u001b[0m",
      "\u001b[0;31mValueError\u001b[0m                                Traceback (most recent call last)",
      "Cell \u001b[0;32mIn[31], line 1\u001b[0m\n\u001b[0;32m----> 1\u001b[0m \u001b[43mjson\u001b[49m\u001b[38;5;241;43m.\u001b[39;49m\u001b[43mload\u001b[49m\u001b[43m(\u001b[49m\u001b[43mopen_file\u001b[49m\u001b[43m)\u001b[49m\n",
      "File \u001b[0;32m/export02/data/landelle/anaconda/envs/CL_brsc_fc_env/lib/python3.8/json/__init__.py:293\u001b[0m, in \u001b[0;36mload\u001b[0;34m(fp, cls, object_hook, parse_float, parse_int, parse_constant, object_pairs_hook, **kw)\u001b[0m\n\u001b[1;32m    274\u001b[0m \u001b[38;5;28;01mdef\u001b[39;00m \u001b[38;5;21mload\u001b[39m(fp, \u001b[38;5;241m*\u001b[39m, \u001b[38;5;28mcls\u001b[39m\u001b[38;5;241m=\u001b[39m\u001b[38;5;28;01mNone\u001b[39;00m, object_hook\u001b[38;5;241m=\u001b[39m\u001b[38;5;28;01mNone\u001b[39;00m, parse_float\u001b[38;5;241m=\u001b[39m\u001b[38;5;28;01mNone\u001b[39;00m,\n\u001b[1;32m    275\u001b[0m         parse_int\u001b[38;5;241m=\u001b[39m\u001b[38;5;28;01mNone\u001b[39;00m, parse_constant\u001b[38;5;241m=\u001b[39m\u001b[38;5;28;01mNone\u001b[39;00m, object_pairs_hook\u001b[38;5;241m=\u001b[39m\u001b[38;5;28;01mNone\u001b[39;00m, \u001b[38;5;241m*\u001b[39m\u001b[38;5;241m*\u001b[39mkw):\n\u001b[1;32m    276\u001b[0m \u001b[38;5;250m    \u001b[39m\u001b[38;5;124;03m\"\"\"Deserialize ``fp`` (a ``.read()``-supporting file-like object containing\u001b[39;00m\n\u001b[1;32m    277\u001b[0m \u001b[38;5;124;03m    a JSON document) to a Python object.\u001b[39;00m\n\u001b[1;32m    278\u001b[0m \n\u001b[0;32m   (...)\u001b[0m\n\u001b[1;32m    291\u001b[0m \u001b[38;5;124;03m    kwarg; otherwise ``JSONDecoder`` is used.\u001b[39;00m\n\u001b[1;32m    292\u001b[0m \u001b[38;5;124;03m    \"\"\"\u001b[39;00m\n\u001b[0;32m--> 293\u001b[0m     \u001b[38;5;28;01mreturn\u001b[39;00m loads(\u001b[43mfp\u001b[49m\u001b[38;5;241;43m.\u001b[39;49m\u001b[43mread\u001b[49m\u001b[43m(\u001b[49m\u001b[43m)\u001b[49m,\n\u001b[1;32m    294\u001b[0m         \u001b[38;5;28mcls\u001b[39m\u001b[38;5;241m=\u001b[39m\u001b[38;5;28mcls\u001b[39m, object_hook\u001b[38;5;241m=\u001b[39mobject_hook,\n\u001b[1;32m    295\u001b[0m         parse_float\u001b[38;5;241m=\u001b[39mparse_float, parse_int\u001b[38;5;241m=\u001b[39mparse_int,\n\u001b[1;32m    296\u001b[0m         parse_constant\u001b[38;5;241m=\u001b[39mparse_constant, object_pairs_hook\u001b[38;5;241m=\u001b[39mobject_pairs_hook, \u001b[38;5;241m*\u001b[39m\u001b[38;5;241m*\u001b[39mkw)\n",
      "\u001b[0;31mValueError\u001b[0m: I/O operation on closed file."
     ]
    }
   ],
   "source": [
    "json.load(open_file)"
   ]
  },
  {
   "cell_type": "code",
   "execution_count": null,
   "metadata": {},
   "outputs": [],
   "source": []
  }
 ],
 "metadata": {
  "kernelspec": {
   "display_name": "Python 3 (ipykernel)",
   "language": "python",
   "name": "python3"
  },
  "language_info": {
   "codemirror_mode": {
    "name": "ipython",
    "version": 3
   },
   "file_extension": ".py",
   "mimetype": "text/x-python",
   "name": "python",
   "nbconvert_exporter": "python",
   "pygments_lexer": "ipython3",
   "version": "3.8.19"
  },
  "varInspector": {
   "cols": {
    "lenName": 16,
    "lenType": 16,
    "lenVar": 40
   },
   "kernels_config": {
    "python": {
     "delete_cmd_postfix": "",
     "delete_cmd_prefix": "del ",
     "library": "var_list.py",
     "varRefreshCmd": "print(var_dic_list())"
    },
    "r": {
     "delete_cmd_postfix": ") ",
     "delete_cmd_prefix": "rm(",
     "library": "var_list.r",
     "varRefreshCmd": "cat(var_dic_list()) "
    }
   },
   "oldHeight": 834,
   "position": {
    "height": "793px",
    "left": "1128px",
    "right": "20px",
    "top": "31px",
    "width": "536px"
   },
   "types_to_exclude": [
    "module",
    "function",
    "builtin_function_or_method",
    "instance",
    "_Feature"
   ],
   "varInspector_section_display": "block",
   "window_display": false
  }
 },
 "nbformat": 4,
 "nbformat_minor": 4
}
