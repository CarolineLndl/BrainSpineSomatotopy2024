{
 "cells": [
  {
   "cell_type": "markdown",
   "metadata": {},
   "source": [
    "# <font color=#B2D732> <span style=\"background-color: #4424D6\"> Brain & Spinal Cord fMRI Quality check </font>\n",
    "<hr style=\"border:1px solid black\">  \n",
    "\n",
    "*Project: 2024_brsc_fc_project*  \n",
    "*Paper: Landelle, Kinany et al. 204*  \n",
    "**@ author:** \n",
    "> Caroline Landelle, caroline.landelle@mcgill.ca // landelle.caroline@gmail.com  \n",
    "> Nawal Kinany, nawal.kinany@epfl.ch  \n",
    "> July 2020 (last update: 11 March 2024)\n",
    "\n",
    "**Description:** \n",
    "> This notebook provides code for quality check of fMRI data of simultaneous brain and spinal cord acquisition (single FOV).   \n",
    "\n",
    "\n",
    "**Associated files:**\n",
    "> - ../config/02_brsc_preprocess.json ; This file contains the directories and should be modified first\n",
    "> - ../.py ; Nothing should be changed in this file\n",
    "> - ../.py; Nothing should be changed in this file\n",
    "\n",
    "**Steps:**\n",
    "> **I. Participants **  \n",
    "\n",
    "> **II. Framewise displacement**  \n",
    "> II.1 Motion correction  \n",
    "> II.2 Segmentation   \n",
    "> II.3 Brain coregistration into T1w\n",
    "\n",
    "> **III. tSNR**  \n",
    "stration to PAM50 template  \n",
    "\n",
    "<hr style=\"border:1px solid black\">\n",
    "\n",
    "to do:\n",
    "- check run nomemclature"
   ]
  },
  {
   "cell_type": "markdown",
   "metadata": {},
   "source": [
    "## <font color=#B2D732> <span style=\"background-color: #4424D6\">  Imports & configuration </font >"
   ]
  },
  {
   "cell_type": "code",
   "execution_count": 8,
   "metadata": {
    "scrolled": true
   },
   "outputs": [
    {
     "name": "stdout",
     "output_type": "stream",
     "text": [
      "The autoreload extension is already loaded. To reload it, use:\n",
      "  %reload_ext autoreload\n"
     ]
    }
   ],
   "source": [
    "import sys, json, glob, os\n",
    "import pandas as pd\n",
    "code_dir=\"/cerebro/cerebro1/dataset/bmpd/derivatives/HealthyControls_project/2024_brsc_fc_project/\"\n",
    "os.chdir(code_dir)\n",
    "sys.path.append(code_dir + \"/code/\") # Change this line according to your directory\n",
    "\n",
    "import BrSc_utils as utils\n",
    "#\n",
    "%load_ext autoreload\n",
    "%autoreload 2\n",
    "%matplotlib inline\n",
    "    \n",
    "# Load config file ------------------------------------------------------------\n",
    "# The config file should be first review and all path should be modified (lines: )\n",
    "with open(code_dir + '/config/02_brsc_QC.json') as config_file: # the notebook should be in 'xx/notebook/' folder #config_proprio\n",
    "    config = json.load(config_file) # load config file should be open first and the path inside modified\n",
    "\n",
    "#Load participant file\n",
    "info_IDs=pd.read_csv(code_dir +'/config/' +config[\"IDs_info_f\"],delimiter=\"\\t\")\n"
   ]
  },
  {
   "cell_type": "markdown",
   "metadata": {},
   "source": [
    "<hr style=\"border:1px solid black\">    \n",
    "\n",
    "## <font color=#B2D732> <span style=\"background-color: #4424D6\"> I. Participants  </font>"
   ]
  },
  {
   "cell_type": "code",
   "execution_count": 7,
   "metadata": {},
   "outputs": [
    {
     "name": "stdout",
     "output_type": "stream",
     "text": [
      "Mean age: 32.83870967741935\n",
      "Standard deviation of age: 6.851261558737673\n",
      " \n",
      "Number of male (M): 15\n",
      "Number of female (F): 16\n"
     ]
    }
   ],
   "source": [
    "# Calculate mean and standard deviation of age\n",
    "age_mean = info_IDs['age'].mean()\n",
    "age_std = info_IDs['age'].std()\n",
    "print(\"Mean age:\", age_mean)\n",
    "print(\"Standard deviation of age:\", age_std)\n",
    "\n",
    "print(\" \")\n",
    "# Count the number of male and female\n",
    "sex_counts = info_IDs['sex'].value_counts()\n",
    "print(\"Number of male (M):\", sex_counts['M'])\n",
    "print(\"Number of female (F):\", sex_counts['F'])"
   ]
  },
  {
   "cell_type": "markdown",
   "metadata": {},
   "source": [
    "<hr style=\"border:1px solid black\">    \n",
    "\n",
    "## <font color=#B2D732> <span style=\"background-color: #4424D6\"> II. Framewise displacement  </font>"
   ]
  },
  {
   "cell_type": "code",
   "execution_count": null,
   "metadata": {},
   "outputs": [],
   "source": [
    "FDmean_IDs={}\n",
    "for structure in config[\"structures\"]:\n",
    "    FDmean_IDs[structure]=[]\n",
    "    for ID_nb,ID in config[\"participants_IDs\"]:\n",
    "        #Open the file containing the mean FD info:\n",
    "        FDmean_ID=pd.read_csv(config[\"main_dir\"] + config[\"moco_files\"][\"dir\"].format(ID,structure) + config[\"moco_files\"][\"FD_mean_f\"] ,delimiter=\"\\t\")\n",
    "\n",
    "\n",
    "    "
   ]
  },
  {
   "cell_type": "markdown",
   "metadata": {},
   "source": [
    "<hr style=\"border:1px solid black\">    \n",
    "\n",
    "## <font color=#B2D732> <span style=\"background-color: #4424D6\"> III. tSNR  </font>"
   ]
  },
  {
   "cell_type": "code",
   "execution_count": null,
   "metadata": {},
   "outputs": [],
   "source": []
  }
 ],
 "metadata": {
  "kernelspec": {
   "display_name": "Python 3 (ipykernel)",
   "language": "python",
   "name": "python3"
  },
  "language_info": {
   "codemirror_mode": {
    "name": "ipython",
    "version": 3
   },
   "file_extension": ".py",
   "mimetype": "text/x-python",
   "name": "python",
   "nbconvert_exporter": "python",
   "pygments_lexer": "ipython3",
   "version": "3.8.19"
  },
  "varInspector": {
   "cols": {
    "lenName": 16,
    "lenType": 16,
    "lenVar": 40
   },
   "kernels_config": {
    "python": {
     "delete_cmd_postfix": "",
     "delete_cmd_prefix": "del ",
     "library": "var_list.py",
     "varRefreshCmd": "print(var_dic_list())"
    },
    "r": {
     "delete_cmd_postfix": ") ",
     "delete_cmd_prefix": "rm(",
     "library": "var_list.r",
     "varRefreshCmd": "cat(var_dic_list()) "
    }
   },
   "oldHeight": 834,
   "position": {
    "height": "793px",
    "left": "1128px",
    "right": "20px",
    "top": "31px",
    "width": "536px"
   },
   "types_to_exclude": [
    "module",
    "function",
    "builtin_function_or_method",
    "instance",
    "_Feature"
   ],
   "varInspector_section_display": "block",
   "window_display": false
  }
 },
 "nbformat": 4,
 "nbformat_minor": 4
}
