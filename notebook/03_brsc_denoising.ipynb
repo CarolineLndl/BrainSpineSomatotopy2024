{
 "cells": [
  {
   "cell_type": "code",
   "execution_count": null,
   "id": "a75f4721-470c-4354-8cc7-2ab09af28ee9",
   "metadata": {},
   "outputs": [],
   "source": []
  }
 ],
 "metadata": {
  "kernelspec": {
   "display_name": "Python 3 (ipykernel)",
   "language": "python",
   "name": "python3"
  },
  "language_info": {
   "codemirror_mode": {
    "name": "ipython",
    "version": 3
   },
   "file_extension": ".py",
   "mimetype": "text/x-python",
   "name": "python",
   "nbconvert_exporter": "python",
   "pygments_lexer": "ipython3",
   "version": "3.8.19"
  }
 },
 "nbformat": 4,
 "nbformat_minor": 5
}
