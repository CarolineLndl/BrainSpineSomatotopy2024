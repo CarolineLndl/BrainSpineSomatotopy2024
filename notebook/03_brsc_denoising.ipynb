{
 "cells": [
  {
   "cell_type": "markdown",
   "id": "eee66061-0109-4e55-9ae8-378afe30dd3f",
   "metadata": {},
   "source": [
    "# <font color=#B2D732> <span style=\"background-color: #4424D6\"> Brain & Spinal Cord fMRI denoising </span> </font>\n",
    "\n",
    "<hr style=\"border:1px solid black\">\n",
    "\n",
    "*Project: 2024_brsc_fc_project*  \n",
    "*Paper: Landelle, Kinany et al. 2024*  \n",
    "**@ author:**  \n",
    "> Caroline Landelle, caroline.landelle@mcgill.ca // landelle.caroline@gmail.com  \n",
    "> Nawal Kinany, nawal.kinany@epfl.ch  \n",
    "> July 2020 (last update: 11 March 2024)\n",
    "  \n",
    "**Description:** \n",
    "> This notebook provides code for denoised fMRI data of simultaneous brain and spinal cord acquisition (single FOV).   \n",
    "\n",
    "\n",
    "<hr style=\"border:1px solid black\">"
   ]
  },
  {
   "cell_type": "markdown",
   "id": "27ccaa4d-7ba6-409e-a0d9-7c28d80b3ab8",
   "metadata": {},
   "source": []
  }
 ],
 "metadata": {
  "kernelspec": {
   "display_name": "Python 3 (ipykernel)",
   "language": "python",
   "name": "python3"
  },
  "language_info": {
   "codemirror_mode": {
    "name": "ipython",
    "version": 3
   },
   "file_extension": ".py",
   "mimetype": "text/x-python",
   "name": "python",
   "nbconvert_exporter": "python",
   "pygments_lexer": "ipython3",
   "version": "3.8.19"
  }
 },
 "nbformat": 4,
 "nbformat_minor": 5
}
